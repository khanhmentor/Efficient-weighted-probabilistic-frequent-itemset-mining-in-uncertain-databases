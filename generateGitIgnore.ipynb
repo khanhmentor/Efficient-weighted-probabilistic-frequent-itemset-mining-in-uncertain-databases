{
 "cells": [
  {
   "cell_type": "markdown",
   "metadata": {},
   "source": [
    "To prevent the inclusion of .class files (which are generated during Java code compilation) in GitHub"
   ]
  },
  {
   "cell_type": "markdown",
   "metadata": {},
   "source": [
    "Import library"
   ]
  },
  {
   "cell_type": "code",
   "execution_count": 131,
   "metadata": {},
   "outputs": [],
   "source": [
    "import os"
   ]
  },
  {
   "cell_type": "markdown",
   "metadata": {},
   "source": [
    "List all .java files in the specific folder"
   ]
  },
  {
   "cell_type": "code",
   "execution_count": 132,
   "metadata": {},
   "outputs": [],
   "source": [
    "def list_java_files(directory):\n",
    "    \"\"\"\n",
    "    Lists all .java files in the given directory.\n",
    "\n",
    "    :param directory: Path to the directory to search in.\n",
    "    :return: List of paths to .java files.\n",
    "    \"\"\"\n",
    "    java_files = []\n",
    "    for root, dirs, files in os.walk(directory):\n",
    "        for file in files:\n",
    "            if file.endswith(\".java\"):\n",
    "                java_files.append(file.split(\".\")[0]+\".class\")\n",
    "                \n",
    "    return java_files"
   ]
  },
  {
   "cell_type": "markdown",
   "metadata": {},
   "source": [
    "Write to .gitignore file"
   ]
  },
  {
   "cell_type": "code",
   "execution_count": 133,
   "metadata": {},
   "outputs": [],
   "source": [
    "def append_to_gitignore(file_paths, gitignore_path):\n",
    "    \"\"\"\n",
    "    Appends file paths to the .gitignore file.\n",
    "\n",
    "    :param file_paths: List of file paths to append.\n",
    "    :param gitignore_path: Path to the .gitignore file.\n",
    "    \"\"\"\n",
    "    # Read existing lines from .gitignore\n",
    "    with open(gitignore_path, 'r') as file:\n",
    "        existed_lines = file.readlines()\n",
    "\n",
    "    # Remove newline characters and get the base names\n",
    "    existed_paths = [line.strip().split('/')[-1] for line in existed_lines]\n",
    "\n",
    "    with open(gitignore_path, 'a') as file: \n",
    "        # Check if the last line of the file is not empty and does not end with a newline\n",
    "        if existed_lines and not existed_lines[-1].endswith('\\n'):\n",
    "            file.write('\\n')\n",
    "\n",
    "        for path in file_paths:\n",
    "            # Check if the path is not already in .gitignore\n",
    "            if path not in existed_paths:\n",
    "                print(path)\n",
    "                # Logic for specific file names\n",
    "                if path.split(\".\")[0] in [\"ChainFromIterable\", \"Combinations\"]:\n",
    "                    newPath = path.split(\".\")[0] + \"$1.class\"\n",
    "                    print(newPath)\n",
    "                    file.write(newPath + '\\n')\n",
    "                file.write(path + '\\n')\n",
    "            else:\n",
    "                print(path + \" (existed)\")\n"
   ]
  },
  {
   "cell_type": "markdown",
   "metadata": {},
   "source": [
    "Execute the code"
   ]
  },
  {
   "cell_type": "code",
   "execution_count": 134,
   "metadata": {},
   "outputs": [
    {
     "name": "stdout",
     "output_type": "stream",
     "text": [
      "BigONotation.class (existed)\n",
      "CandidateGenerator.class (existed)\n",
      "ChainFromIterable.class (existed)\n",
      "Combinations.class (existed)\n",
      "DataGenerator.class (existed)\n",
      "DataLoader.class (existed)\n",
      "ExpNegativeLambda.class (existed)\n",
      "Factorial.class (existed)\n",
      "FrequentItemsetChecker.class (existed)\n",
      "GaussianProbability.class (existed)\n",
      "Main.class (existed)\n",
      "MathCalculator.class (existed)\n",
      "Menu.class (existed)\n",
      "Pair.class (existed)\n",
      "PoissonProbability.class (existed)\n",
      "ProbabilityCalculator.class (existed)\n",
      "RunningTimeAnalyser.class (existed)\n",
      "SubsetGenerator.class (existed)\n",
      "TimeMeasurement.class (existed)\n",
      "WeightAssigner.class (existed)\n",
      "WeightedSupportCalculator.class (existed)\n",
      "WPFI.class (existed)\n"
     ]
    }
   ],
   "source": [
    "folder_path = './Source/Java'\n",
    "gitignore_path = '.gitignore'\n",
    "\n",
    "java_files = list_java_files(folder_path)\n",
    "append_to_gitignore(java_files, gitignore_path)"
   ]
  }
 ],
 "metadata": {
  "kernelspec": {
   "display_name": "Python 3",
   "language": "python",
   "name": "python3"
  },
  "language_info": {
   "codemirror_mode": {
    "name": "ipython",
    "version": 3
   },
   "file_extension": ".py",
   "mimetype": "text/x-python",
   "name": "python",
   "nbconvert_exporter": "python",
   "pygments_lexer": "ipython3",
   "version": "3.10.2"
  }
 },
 "nbformat": 4,
 "nbformat_minor": 2
}
